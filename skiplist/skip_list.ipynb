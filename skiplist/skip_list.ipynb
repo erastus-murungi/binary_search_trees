{
 "cells": [
  {
   "cell_type": "code",
   "execution_count": 220,
   "metadata": {},
   "outputs": [],
   "source": [
    "from typing import Iterable, Union\n",
    "from random import random, randint\n",
    "\n",
    "\n",
    "class skipnode:\n",
    "    __slots__ = (\"value\", \"nxt\", \"_down\")\n",
    "\n",
    "    def __init__(self, value=None, height=1):\n",
    "        self.value = value\n",
    "        self.nxt = [None] * height\n",
    "\n",
    "    def __repr__(self):\n",
    "        return f\"{self.__class__.__qualname__}(value={self.value})\"\n",
    "\n",
    "    def __str__(self):\n",
    "        return repr(self)\n",
    "\n",
    "    def __next__(self):\n",
    "        return self.nxt[0]\n",
    "\n",
    "\n",
    "class skiplist:\n",
    "    \"\"\" randomization at work. optimizing for kn^(1/ k). dT(n, k)/dk = 0 => k = ln(n)\n",
    "        O(lg n) expected updates and queries w.h.p\n",
    "\n",
    "        maintains a dynamic set of elements.\n",
    "            methods: insert, search, delete, successor, predecessor\n",
    "    \"\"\"\n",
    "\n",
    "    __slots__ = (\"header\", \"count\", \"nil\", \"height\")\n",
    "\n",
    "    MAXHEIGHT = 32\n",
    "    INF = (1 << 63) - 1\n",
    "\n",
    "    def __init__(self, items: Iterable = ()):\n",
    "        self.count = 0\n",
    "        self.header = self.nil = skipnode(self.INF, self.MAXHEIGHT)\n",
    "        self.height = 1\n",
    "        if items:\n",
    "            self.insert(items)\n",
    "        self.maximum = None\n",
    "\n",
    "    @staticmethod\n",
    "    def gen_height():\n",
    "        c = 1\n",
    "        while random() < 0.5 and c < skiplist.MAXHEIGHT:\n",
    "            c += 1\n",
    "        return c\n",
    "\n",
    "    @staticmethod\n",
    "    def genheight():\n",
    "        x = int(random() * 0xffffffffff) & ((1 << skiplist.MAXHEIGHT) - 1)\n",
    "        return (x & -x).bit_length()\n",
    "\n",
    "    @property\n",
    "    def isempty(self) -> bool:\n",
    "        return self.count == 0\n",
    "\n",
    "    def access(self, needle) -> Union[skipnode, None]:\n",
    "        s = self.header\n",
    "        for level in reversed(range(self.height)):\n",
    "            while s.nxt[level] is not None and s.nxt[level].value <= needle:\n",
    "                s = s.nxt[level]\n",
    "                if s.value == needle:\n",
    "                    return s\n",
    "        return s\n",
    "\n",
    "    def insert(self, *values) -> None:\n",
    "        for value in values:\n",
    "            h, H = skiplist.genheight(), self.height\n",
    "            self.height = h if h > H else H\n",
    "            elt = skipnode(value, h)\n",
    "\n",
    "            s = self.header\n",
    "            for level in reversed(range(h, self.height)):\n",
    "                while s.nxt[level] and s.nxt[level].value < value:\n",
    "                    s = s.nxt[level]\n",
    "\n",
    "            for level in reversed(range(h)):\n",
    "                while s.nxt[level] and s.nxt[level].value < value:\n",
    "                    s = s.nxt[level]\n",
    "\n",
    "                elt.nxt[level] = s.nxt[level]\n",
    "                s.nxt[level] = elt\n",
    "\n",
    "            self.count += 1\n",
    "            self.maximum = value if not self.maximum or \\\n",
    "                        value > self.maximum else self.maximum\n",
    "    \n",
    "    @property\n",
    "    def minimum():\n",
    "        return None if self.isempty else self.header[0].nxt.value\n",
    "\n",
    "    def delete(self, value) -> bool:\n",
    "        target = s = self.header\n",
    "\n",
    "        for level in reversed(range(self.height)):\n",
    "            while target.nxt[level] and target.nxt[level].value < value:\n",
    "                target = target.nxt[level]\n",
    "\n",
    "        target = target.nxt[0]\n",
    "        if not target or target.value != value:\n",
    "            return False\n",
    "\n",
    "        for level in reversed(range(self.height)):\n",
    "            while s.nxt[level] and s.nxt[level].value < value:\n",
    "                s = s.nxt[level]\n",
    "\n",
    "            if s.nxt[level] == target:\n",
    "                s.nxt[level] = target.nxt[level]\n",
    "        self.count -= 1\n",
    "        self.maximum = self._calc_max if value == self.maximum else self.maximum\n",
    "        return True\n",
    "    \n",
    "    def _calc_max():\n",
    "        s = self.header.nxt[0]\n",
    "        while s.next[0]:\n",
    "            s = s.next[0]\n",
    "        return s\n",
    "\n",
    "    def successor(self, value) -> Union[skipnode, None]:\n",
    "        p = self.predecessor(value)\n",
    "        while p.nxt[0] != self.nil and p.nxt[0].value <= value:\n",
    "            p = p.nxt[0]\n",
    "        return p.nxt[0]\n",
    "\n",
    "    def predecessor(self, value) -> skipnode:\n",
    "        \"\"\"If duplicate values exist, duplicate is returned\"\"\"\n",
    "        target = self.header\n",
    "        for level in reversed(range(self.height)):\n",
    "            while target.nxt[level] and target.nxt[level].value < value:\n",
    "                target = target.nxt[level]\n",
    "        return target\n",
    "\n",
    "    def __contains__(self, item):\n",
    "        return self.access(item).value ==  self.nil.value\n",
    "\n",
    "    def __len__(self):\n",
    "        return self.count\n",
    "\n",
    "    def __iter__(self):\n",
    "        s = self.header.nxt[0]\n",
    "        while s:\n",
    "            yield s.value\n",
    "            s = s.nxt[0]\n",
    "\n",
    "    def __repr__(self):\n",
    "        return f\"{self.__class__.__qualname__}({str(self)})\"\n",
    "\n",
    "    def __str__(self):\n",
    "        r = \"[\"\n",
    "        s = self.header.nxt[0]\n",
    "        while s is not None:\n",
    "            r += str(s.value) + \", \"\n",
    "            s = s.nxt[0]\n",
    "        return r + \"]\"\n",
    "\n",
    "    def __len__(self):\n",
    "        return self.count\n",
    "\n",
    "    def __iter__(self):\n",
    "        s = self.header.nxt[0]\n",
    "        while s:\n",
    "            yield s.value\n",
    "            s = s.nxt[0]\n",
    "\n",
    "    def __repr__(self):\n",
    "        return f\"{self.__class__.__qualname__}({str(self)})\"\n",
    "\n",
    "    def __str__(self):\n",
    "        r = \"[\"\n",
    "        s = self.header.nxt[0]\n",
    "        while s is not None:\n",
    "            r += str(s.value) + \", \"\n",
    "            s = s.nxt[0]\n",
    "        return r + \"]\""
   ]
  },
  {
   "cell_type": "code",
   "execution_count": 221,
   "metadata": {},
   "outputs": [
    {
     "ename": "AttributeError",
     "evalue": "'skiplist' object has no attribute 'maximum'",
     "output_type": "error",
     "traceback": [
      "\u001b[0;31m---------------------------------------------------------------------------\u001b[0m",
      "\u001b[0;31mAttributeError\u001b[0m                            Traceback (most recent call last)",
      "\u001b[0;32m<ipython-input-221-51b2d97ddc06>\u001b[0m in \u001b[0;36m<module>\u001b[0;34m\u001b[0m\n\u001b[0;32m----> 1\u001b[0;31m \u001b[0mst\u001b[0m \u001b[0;34m=\u001b[0m \u001b[0mskiplist\u001b[0m\u001b[0;34m(\u001b[0m\u001b[0;34m)\u001b[0m\u001b[0;34m\u001b[0m\u001b[0;34m\u001b[0m\u001b[0m\n\u001b[0m\u001b[1;32m      2\u001b[0m \u001b[0mvalues\u001b[0m \u001b[0;34m=\u001b[0m \u001b[0;34m[\u001b[0m\u001b[0mrandint\u001b[0m\u001b[0;34m(\u001b[0m\u001b[0;36m0\u001b[0m\u001b[0;34m,\u001b[0m \u001b[0;36m100\u001b[0m\u001b[0;34m)\u001b[0m \u001b[0;32mfor\u001b[0m \u001b[0m_\u001b[0m \u001b[0;32min\u001b[0m \u001b[0mrange\u001b[0m\u001b[0;34m(\u001b[0m\u001b[0;36m10\u001b[0m\u001b[0;34m)\u001b[0m\u001b[0;34m]\u001b[0m\u001b[0;34m\u001b[0m\u001b[0;34m\u001b[0m\u001b[0m\n",
      "\u001b[0;32m<ipython-input-220-2a10576f7276>\u001b[0m in \u001b[0;36m__init__\u001b[0;34m(self, items)\u001b[0m\n\u001b[1;32m     39\u001b[0m         \u001b[0;32mif\u001b[0m \u001b[0mitems\u001b[0m\u001b[0;34m:\u001b[0m\u001b[0;34m\u001b[0m\u001b[0;34m\u001b[0m\u001b[0m\n\u001b[1;32m     40\u001b[0m             \u001b[0mself\u001b[0m\u001b[0;34m.\u001b[0m\u001b[0minsert\u001b[0m\u001b[0;34m(\u001b[0m\u001b[0mitems\u001b[0m\u001b[0;34m)\u001b[0m\u001b[0;34m\u001b[0m\u001b[0;34m\u001b[0m\u001b[0m\n\u001b[0;32m---> 41\u001b[0;31m         \u001b[0mself\u001b[0m\u001b[0;34m.\u001b[0m\u001b[0mmaximum\u001b[0m \u001b[0;34m=\u001b[0m \u001b[0;32mNone\u001b[0m\u001b[0;34m\u001b[0m\u001b[0;34m\u001b[0m\u001b[0m\n\u001b[0m\u001b[1;32m     42\u001b[0m \u001b[0;34m\u001b[0m\u001b[0m\n\u001b[1;32m     43\u001b[0m     \u001b[0;34m@\u001b[0m\u001b[0mstaticmethod\u001b[0m\u001b[0;34m\u001b[0m\u001b[0;34m\u001b[0m\u001b[0m\n",
      "\u001b[0;31mAttributeError\u001b[0m: 'skiplist' object has no attribute 'maximum'"
     ]
    }
   ],
   "source": [
    "st = skiplist()\n",
    "values = [randint(0, 100) for _ in range(10)]"
   ]
  },
  {
   "cell_type": "code",
   "execution_count": 203,
   "metadata": {},
   "outputs": [],
   "source": [
    "st.insert(*values)"
   ]
  },
  {
   "cell_type": "code",
   "execution_count": 204,
   "metadata": {},
   "outputs": [
    {
     "data": {
      "text/plain": [
       "skiplist([7, 8, 35, 40, 54, 61, 64, 68, 87, 95, ])"
      ]
     },
     "execution_count": 204,
     "metadata": {},
     "output_type": "execute_result"
    }
   ],
   "source": [
    "st"
   ]
  },
  {
   "cell_type": "code",
   "execution_count": 183,
   "metadata": {},
   "outputs": [
    {
     "data": {
      "text/plain": [
       "True"
      ]
     },
     "execution_count": 183,
     "metadata": {},
     "output_type": "execute_result"
    }
   ],
   "source": [
    "all(val in st for val in values)"
   ]
  },
  {
   "cell_type": "code",
   "execution_count": 217,
   "metadata": {},
   "outputs": [
    {
     "data": {
      "text/plain": [
       "skipnode(value=68)"
      ]
     },
     "execution_count": 217,
     "metadata": {},
     "output_type": "execute_result"
    }
   ],
   "source": [
    "st.successor(64)"
   ]
  },
  {
   "cell_type": "code",
   "execution_count": 135,
   "metadata": {},
   "outputs": [],
   "source": [
    "@timer\n",
    "def insert(val):\n",
    "    return st.insert(val)"
   ]
  },
  {
   "cell_type": "code",
   "execution_count": 136,
   "metadata": {},
   "outputs": [
    {
     "name": "stdout",
     "output_type": "stream",
     "text": [
      "19.181 µs\n"
     ]
    }
   ],
   "source": [
    "insert(10)"
   ]
  },
  {
   "cell_type": "code",
   "execution_count": 137,
   "metadata": {},
   "outputs": [
    {
     "data": {
      "text/plain": [
       "skiplist([9, 10, 20, 30, 42, 48, 61, 64, 74, 83, 98, ])"
      ]
     },
     "execution_count": 137,
     "metadata": {},
     "output_type": "execute_result"
    }
   ],
   "source": [
    "st"
   ]
  },
  {
   "cell_type": "code",
   "execution_count": 139,
   "metadata": {},
   "outputs": [],
   "source": [
    "values = [randint(0, 100) for _ in range(20)]"
   ]
  }
 ],
 "metadata": {
  "kernelspec": {
   "display_name": "Python 3.8.1 64-bit",
   "language": "python",
   "name": "python38164bit9887c53e05b84e05a93bb75b31561849"
  },
  "language_info": {
   "codemirror_mode": {
    "name": "ipython",
    "version": 3
   },
   "file_extension": ".py",
   "mimetype": "text/x-python",
   "name": "python",
   "nbconvert_exporter": "python",
   "pygments_lexer": "ipython3",
   "version": "3.8.1"
  }
 },
 "nbformat": 4,
 "nbformat_minor": 4
}
